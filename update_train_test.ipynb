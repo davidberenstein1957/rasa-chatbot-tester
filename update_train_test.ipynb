{
 "metadata": {
  "language_info": {
   "codemirror_mode": {
    "name": "ipython",
    "version": 3
   },
   "file_extension": ".py",
   "mimetype": "text/x-python",
   "name": "python",
   "nbconvert_exporter": "python",
   "pygments_lexer": "ipython3",
   "version": "3.7.8-final"
  },
  "orig_nbformat": 2,
  "kernelspec": {
   "name": "python3",
   "display_name": "Python 3",
   "language": "python"
  }
 },
 "nbformat": 4,
 "nbformat_minor": 2,
 "cells": [
  {
   "cell_type": "code",
   "execution_count": 13,
   "metadata": {},
   "outputs": [],
   "source": [
    "train_model = ['vanilla', 'textattack', 'coco', 'quora', 'transformer'][-1]\n",
    "test_model = ['vanilla', 'textattack', 'coco', 'quora', 'transformer'][0]\n",
    "demo_type = ['financial-demo', 'helpdesk-assistant', 'pokedex-demo', 'wellness-check-bot'][0]\n",
    "train_file_path = f'{demo_type}/train_test_split/training_data.md'\n",
    "test_file_path = f'{demo_type}/train_test_split/test_data.md'"
   ]
  },
  {
   "cell_type": "code",
   "execution_count": null,
   "metadata": {},
   "outputs": [],
   "source": []
  },
  {
   "cell_type": "code",
   "execution_count": 14,
   "metadata": {},
   "outputs": [],
   "source": [
    "def create_data_dict(model_type):\n",
    "    data_dict = {}\n",
    "    \n",
    "    if model_type == 'vanilla':\n",
    "        return data_dict\n",
    "    else:\n",
    "        f = open(f'gen_{model_type}.txt')\n",
    "        intent = ''\n",
    "        for line in f.readlines():\n",
    "            if '## intent:' in line:\n",
    "                intent = line.split(':')[-1].strip()\n",
    "                if intent not in data_dict:\n",
    "                    data_dict[intent] = []\n",
    "            else:\n",
    "                data_dict[intent].append(line.strip())\n",
    "    \n",
    "    return data_dict\n",
    "\n",
    "train_dict = create_data_dict(train_model)\n",
    "test_dict = create_data_dict(test_model)"
   ]
  },
  {
   "source": [
    "train_dict['will i be charged for a transaction?']"
   ],
   "cell_type": "code",
   "metadata": {},
   "execution_count": 17,
   "outputs": [
    {
     "output_type": "execute_result",
     "data": {
      "text/plain": [
       "['will you charge me for the transaction?',\n",
       " 'you want me to charge you for the transaction?',\n",
       " 'will the charges be levied for this transaction?',\n",
       " 'can i be charged for these transactions?',\n",
       " 'you want me to charge him with a transaction?',\n",
       " 'will i be charged?',\n",
       " \"will i be charged if there's a transaction?\",\n",
       " 'can they charge me for a transaction?',\n",
       " 'will i receive a warrant for such a transaction?',\n",
       " 'will you charge me for the transaction?',\n",
       " \"shall i be charged for the transaction i'm supposed to make?\",\n",
       " 'can i demand a transfer?',\n",
       " 'will my sentence be fined for a transaction?',\n",
       " 'will i be accused of a transaction?',\n",
       " 'can you get me charged for the transaction?',\n",
       " 'do i have to be charged a trade?',\n",
       " 'can i be accused of transactions?',\n",
       " 'shall i be fined for the trade?',\n",
       " 'will it charge me for transactions?',\n",
       " 'can i be indicted on a trade?',\n",
       " '']"
      ]
     },
     "metadata": {},
     "execution_count": 17
    }
   ]
  },
  {
   "cell_type": "code",
   "execution_count": 48,
   "metadata": {},
   "outputs": [
    {
     "output_type": "stream",
     "name": "stdout",
     "text": [
      "financial-demo/train_test_split/training_data.md\n## intent:ask_transfer_charge\n\n- you do not have a transfer fee.\n\n- do xfers cost something?\n\n- how much is the transfer rate?\n\n- can they cost you something?\n\n- will i be charged for transfer...\n\n- you charge me\n\n\n\n## intent:human_handoff\n\n- real human\n\n- give me a man.\n\n- please give me my human\n\n- chat with a live-chat agent.\n\n- i want a man.\n\n- i want to talk to a human being.\n\n- please tell us a real agent.\n\n\n\n## intent:deny\n\n- no\n\n- I dunno\n\n- no way\n\n- i don't think so.\n\n- nevermind\n\n- not really\n\n- no thanks\n\n- never\n\n\n\n## intent:goodbye\n\n- BYEE\n\n- GOODBYE\n\n- quit\n\n- stop\n\n- thank you very much.\n\n- bye\n\n- Adios\n\n\n\n## intent:help\n\n- how to use this one\n\n- how can you do that?\n\n- help\n\n- you can do anything for me. why can't you help me?\n\n- help, what are you doing?\n\n- help me\n\n- what are the things that can come between you?\n\n- what will you do for me?\n\n\n\n## intent:thankyou\n\n- and thank you very much and good night.\n\n- thank you\n\n- thank you and goodbye.\n\n- thanks goodbye\n\n- all right, thanks, goodbye, thanks.\n\n- thanks\n\n- Thanks!\n\n- hey, thanks for your good bye.\n\n\n\n## intent:check_earnings\n\n- how many items have been deposited in january\n\n- how much did it go to my account last month?\n\n- how much money did he make last year?\n\n- how much money do i make?\n\n- how much did i earn in a month?\n\n- how much did it cost me last month?\n\n- how much did i earn last week?\n\n- check the deposits for last week's deposits for the last weeks.\n\n- what did it take me last month?\n\n- what did i get?\n\n\n\n## intent:check_recipients\n\n- who are my known recipients?\n\n- show me a list of beneficiaries.\n\n- who do you want to transfer money to?\n\n- who's in my list?\n\n- show me the money i can give you.\n\n- who can i get?\n\n- who's my favourite target of the recipients of the kown kown?\n\n- who's a valid customer\n\n- can we start over from the beginning?\n\n\n\n## intent:affirm\n\n- yeah\n\n- yes please\n\n- that sounds great.\n\n- correct\n\n- yess please\n\n- indeed\n\n- cool,\n\n- yes...\n\n- yes plz\n\n- of course\n\n- yes\n\n- Ok\n\n\n\n## intent:greet\n\n- HI\n\n- Hi\n\n- good evening\n\n- hello, ella.\n\n- Hello?\n\n- hallo\n\n- Hey Sara!\n\n- hi!\n\n- good morning\n\n- hello, you're here.\n\n- hello there\n\n- HEY\n\n- Hey RASA!\n\n- hi there\n\n- hey\n\n\n\n## intent:search_transactions\n\n- how much did I spend at [Starbucks](vendor_name) last week?\n\n- i have to look at my spending history.\n\n- i want to look at my spending history and find out if i've taken out all the bills\n\n- how much did i spend at [starbucks](vendor_name) last year\n\n- check my spending history.\n\n- can i search my transaction history?\n\n- what, how much did i spend last month before it was all over?\n\n- What did I spend at [Legoland](vendor_name) last month?\n\n- can i seem my transactions with [target](vendor_name)\n\n- what is my typical spending at [Amazon](vendor_name)?\n\n- i want to search the past...\n\n- Yes! How much did I spend on [Starbucks](vendor_name) last month?\n\n- how much did i spend at [starbucks](vendor_name) last month?\n\n- check my transaction history\n\n- can i look at the past trade\n\n- how much did I spend at [Target](vendor_name) this week?\n\n- I want to check my spending history at [starbucks](vendor_name)\n\n\n\n## intent:pay_cc\n\n- Pay off my [minimum balance](payment_amount) please\n\n- \n\n- i 'll pay the visa.\n\n- I would like to pay the [minimum balance](payment_amount) on my [embelm](credit_card) card\n\n- I want to pay my [iron bank](credit_card) bill\n\n- i would like to pay $1200 to my [credit card]{\"entity\": \"account_type\", \"value\": \"credit\"}\n\n- I want to pay the [current balance](payment_amount) on my [credit card](account_type)\n\n- can you help me pay the [current balance](payment_amount) on my [credit card](account_type)\n\n- i want to pay off my [credit card](account_type)\n\n- I want to pay my [credit card](account_type) bill\n\n- pay my mastercard\n\n- i want to pay the mastercard\n\n- Let's pay that [credit card]{\"entity\": \"account_type\", \"value\": \"credit\"} bill\n\n- you pay the visa.\n\n- I want to pay off my [credit card](account_type)\n\n- i want to pay my [current balance](payment_amount) on my [emblem](credit_card) [credit card](account_type)\n\n- i want to pay my [credit card](account_type)\n\n- I want to pay my [credit card](account_type)\n\n- Pay off my [credit card]{\"entity\": \"account_type\", \"value\": \"credit\"}, please\n\n- i want a card.\n\n- I want to pay $500 on my [emblem](credit_card) [credit card](account_type) on Sunday\n\n- I want to pay my [justice bank](credit_card) bill\n\n- I guess it is. Since it's so much, let's pay off my [credit](account_type)\n\n- I want to pay my [current balance](payment_amount) on my [embelm](credit_card) [credit card](account_type)\n\n- pay the advance\n\n\n\n## intent:transfer_money\n\n- reward for $ 50\n\n- i need to transfer money to her.\n\n- you need money\n\n- for lisa, please.\n\n- i want to transfer.\n\n- transfer to john j.\n\n- betty's $ 60 per kara\n\n- transfer sarah to me\n\n- transfer the money to evan.os.\n\n- i want someone to pay for them.\n\n- all right, pay it all!\n\n- i want to take $ 100 for jane smith.\n\n- can i transfer money to her?\n\n- i want to transfer to kelly.\n\n- transfer to sally's 60.\n\n- someone will pay for it.\n\n- i want to take money\n\n- lisa pays $ 60\n\n- can i get kyle gardner?\n\n- pay evan oslo.\n\n- pay the katy parrow a dollar for this, please.\n\n- i want to transfer money, please.\n\n- you can give it to my mom.\n\n- pay Emma\n\n- i want to donate 100 dollars to my daughter.\n\n- transfer money\n\n- i want him to put him through $ 100 in bob!\n\n\n\n## intent:check_balance\n\n- Whats the balance on my [credit account](account_type)\n\n- how much do we spend lately?\n\n- Show me my [credit card](account_type) balance\n\n- how much is on my balance sheet?\n\n- What [credit accounts](account_type) do I have\n\n- What's my [emblem](credit_card) card balance\n\n- what's my [credit card](account_type) account balance?\n\n- can you tell me what my account's balance is?\n\n- what's left?\n\n- \n\n- what's my account balance...\n\n- check my [credit card]{\"entity\": \"account_type\", \"value\": \"credit\"} balance\n\n- Yeah, I know 😀 Since it's so nice: How much money do I have?\n\n- hello, what's my account?\n\n- How much money do I owe on my [credit cards](account_type)\n\n- how much money do we have here?\n\n- What's my [credit](account_type) balance\n\n- how's my balance?\n\n- check my [credit card]{\"entity\": \"account_type\", \"value\": \"credit\"} balance [first](account_type)\n\n- what's my line?\n\n- what's my [embelm](credit_card)'s card balance?\n\n- I should check my [credit card]{\"entity\": \"account_type\", \"value\": \"credit\"} balance [first](account_type)\n\n- What's the balance on the [credit all](credit_card) account\n\n- What is my [emblem](credit_card) card balance?\n\n- what's my [credit card](account_type) balance?\n\n- what is my balance?\n\n- What's my [credit account](account_type)\n\n- how much do i owe?\n\n- Show me my [credit accounts](account_type)\n\n- i 'd like to know how much money is in my account.\n\n- What's the balance on the [justice bank](credit_card) account\n\n- how much money do i have?\n\n- What's my [credit all](credit_card) balance\n\n- What's my [credit card](account_type) balance\n\n- so... what's my balance?\n\n\n\n## intent:inform\n\n- [Amazon](vendor_name)\n\n- my [current balance](payment_amount)\n\n- [emblem](credit_card) card\n\n- $100\n\n- for sunday\n\n- Ok, so [Iron Bank](credit_card) and then [Credit All](credit_card)\n\n- [emblem](credit_card) account\n\n- $500\n\n- [iron bank](credit_card) [credit card](account_type)\n\n- towards my [iron bank](credit_card) card\n\n- [credit all](credit_card) [credit card](account_type)\n\n- my [justice bank](credit_card) [credit card](account_type)\n\n- [iron bank](credit_card)\n\n- [Iron Bank](credit_card)\n\n- 500\n\n- [Target](vendor_name)\n\n- $10\n\n- today\n\n- at [target](vendor_name)\n\n- `` last two days ''\n\n- my [emblem](credit_card) [credit card](account_type)\n\n- the [current balance](payment_amount)\n\n- [credit all](credit_card)\n\n- yesterday\n\n- for several months.\n\n- today please\n\n- towards my [justice bank](credit_card) card\n\n- last week\n\n- I want to pay the [minimum balance](payment_amount)\n\n- the [minimum balance](payment_amount)\n\n- [justice bank](credit_card)\n\n- 1000 dollars\n\n- [iron bank](credit_card) account\n\n- Alexandra?\n\n- 100 dollars\n\n- [iron bank](credit_card) card\n\n- my [credit all](credit_card) [credit card](account_type)\n\n- tomorrow\n\n- please provide your schedule for next month.\n\n- My [visa](credit_card)\n\n- my [credit card]{\"entity\": \"account_type\", \"value\": \"credit\"} account ending in 4321\n\n- next week\n\n- A friend.\n\n- [visa](credit_card)\n\n- [Starbucks](vendor_name)\n\n- [mastercard](credit_card)\n\n- [emblem](credit_card)\n\n- [credit all](credit_card) account\n\n- for friday\n\n- [minimum balance](payment_amount)\n\n- 5000\n\n- [justice bank](credit_card) card\n\n- [justice bank](credit_card) account\n\n- [emblem](credit_card) [credit card](account_type)\n\n- [credit all](credit_card) card\n\n- my [iron bank](credit_card) [credit card](account_type)\n\n- my [credit all](credit_card) card\n\n- my [minimum balance](payment_amount)\n\n\n\n## synonym:credit\n\n- credit card\n\n- credit cards\n\n- credit account\n\n- credit accounts\n\n\n\n## synonym:emblem\n\n- emblm\n\n- embelm\n\nfinancial-demo/train_test_split/test_data.md\n## intent:ask_transfer_charge\n\n- will i be charged for a transaction?\n\n- is there a xfer fee\n\n- is there a transfer charge?\n\n\n\n## intent:human_handoff\n\n- can I speak to an agent\n\n- transfer to a human\n\n\n\n## intent:deny\n\n- nope\n\n- Nothing!\n\n\n\n## intent:goodbye\n\n- goodbye\n\n- i'm done\n\n- see you later\n\n\n\n## intent:help\n\n- what can I ask you?\n\n- what do you do?\n\n\n\n## intent:thankyou\n\n- okay thank you\n\n- thank you bye\n\n- thank you goodbye\n\n\n\n## intent:check_earnings\n\n- How much have i earned?\n\n- total deposits over last year\n\n- how much was deposited in my account in the last two weeks?\n\n\n\n## intent:check_recipients\n\n- Show the recipient list\n\n- Who is on your list?\n\n- who can I transfer money to?\n\n- who can I pay?\n\n\n\n## intent:affirm\n\n- Sure\n\n- sweet\n\n- yup\n\n\n\n## intent:greet\n\n- Hey\n\n- hello\n\n- Hello\n\n- hey there\n\n- hi\n\n\n\n## intent:search_transactions\n\n- I want to check my spending\n\n- what places have I spent money?\n\n- How much did I spend at [Burger King](vendor_name) last month?\n\n- How much did I spend last month?\n\n- I want to search my transactions with [amazon](vendor_name)\n\n- What did I spend at [Legoland](vendor_name) last year?\n\n\n\n## intent:pay_cc\n\n- Pay my [credit all](credit_card) card\n\n- Pay my discover\n\n- i want to pay off my [emblem](credit_card) [credit card](account_type)\n\n- I want to pay my [current balance](payment_amount) on my [emblem](credit_card) [credit card](account_type) today\n\n- i need to pay off my [emblm](credit_card) [credit card](account_type)\n\n- I would also like to pay my [visa](credit_card) bill\n\n- Can I schedule a payment towards my credit card for tomorrow?\n\n- i want to pay off my [credit all](credit_card) [credit card](account_type)\n\n\n\n## intent:transfer_money\n\n- I want to pay John\n\n- i want to transfer $400 to Akela\n\n- I want to transfer $100 to John\n\n- I want to pay Bill\n\n- I want to pay Paula Handy\n\n- pay my friend\n\n- I need to transfer money to my grandma Judith.\n\n- I need to pay a friend.\n\n- Pay $50 to Percy\n\n\n\n## intent:check_balance\n\n- How much do I have on that account?\n\n- whats my [current balance](payment_amount)\n\n- Show me my [iron bank](credit_card) balance\n\n- what's my current balance?\n\n- What's my [justice bank](credit_card) balance\n\n- What is my [emblem](credit_card) balance?\n\n- what's my account balance\n\n- What's the balance on that account?\n\n- whats my [credit card](account_type) balance\n\n- whats my [emblm](credit_card) card balance?\n\n- what's my [emblm](credit_card) account balance?\n\n- what's my [emblm](credit_card) [credit card](account_type) balance?\n\n\n\n## intent:inform\n\n- a hundred dollars\n\n- I want to pay the [current balance](payment_amount)\n\n- towards my [credit all](credit_card) card\n\n- my [justice bank](credit_card) card\n\n- [current balance](payment_amount)\n\n- at [amazon](vendor_name)\n\n- [target](vendor_name)\n\n- towards my [emblem](credit_card) card\n\n- [justice bank](credit_card) [credit card](account_type)\n\n- I want to pay the [minimum balance](payment_amount) on my [emblem](credit_card) [credit card](account_type) today\n\n- [starbucks](vendor_name)\n\n- for tomorrow\n\n- My [Visa](credit_card) account\n\n- for today\n\n- at [starbucks](vendor_name)\n\n- my [rasa](credit_card) account\n\n- for saturday\n\n- my [emblem](credit_card) card\n\n- the last two weeks\n\n- my [iron bank](credit_card) card\n\n\n\n## synonym:credit\n\n- credit card\n\n- credit cards\n\n- credit account\n\n- credit accounts\n\n\n\n## synonym:emblem\n\n- emblm\n\n- embelm\n\n"
     ]
    },
    {
     "output_type": "execute_result",
     "data": {
      "text/plain": [
       "True"
      ]
     },
     "metadata": {},
     "execution_count": 48
    }
   ],
   "source": [
    "import random\n",
    "\n",
    "def update_train_test_data(data_dict, tt_type='training'):\n",
    "    file_path = f'{demo_type}/train_test_split/{tt_type}_data.md'\n",
    "\n",
    "    with open(file_path, 'r') as f:\n",
    "        lines = list(f)\n",
    "\n",
    "    with open(file_path, 'w') as output_file:\n",
    "        print(file_path)\n",
    "        for line in lines:\n",
    "            clean = line.strip().replace('- ', '')\n",
    "            if clean in data_dict:\n",
    "                output_file.write('- ' + random.choice(data_dict[clean])+'\\n')\n",
    "                if tt_type == 'training':\n",
    "                    output_file.write(line)\n",
    "            else: \n",
    "                if line.strip() != '':\n",
    "                    output_file.write(line)\n",
    "                else:\n",
    "                    output_file.write('\\n')\n",
    "                \n",
    "    with open(file_path, 'r') as f:\n",
    "        lines = list(f)\n",
    "        for line in lines:\n",
    "            print(line)\n",
    "\n",
    "    return True\n",
    "\n",
    "update_train_test_data(train_dict, 'training')\n",
    "update_train_test_data(test_dict, 'test')"
   ]
  }
 ]
}